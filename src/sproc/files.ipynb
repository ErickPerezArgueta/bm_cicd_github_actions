{
 "cells": [
  {
   "cell_type": "code",
   "execution_count": 1,
   "metadata": {},
   "outputs": [],
   "source": [
    "import configparser\n",
    "import sys\n",
    "import os\n",
    "import json\n",
    "from datetime import datetime\n",
    "import re\n",
    "\n",
    "from snowflake.snowpark.session import Session\n",
    "import snowflake.snowpark.functions as F\n",
    "import snowflake.snowpark.types as T\n",
    "from snowflake.snowpark.functions import col\n",
    "\n",
    "from snowflake.ml.modeling.preprocessing import OneHotEncoder\n",
    "\n",
    "# Create a ConfigParser object\n",
    "config = configparser.ConfigParser()\n",
    "\n",
    "# Define the path to the config file\n",
    "config_path = os.path.expanduser(\"~/.snowsql/config\") \n",
    "#Se comenta esta linea de codigo para usar el json con credenciales dentro del proyecto\n",
    "#my_dir = os.path.dirname(os.path.abspath(__file__))\n",
    "#config_path = os.path.join(my_dir, 'another_config.cfg')\n",
    "#print(config_path)\n",
    "\n",
    "# Read the contents of the file into the ConfigParser object\n",
    "config.read(config_path)\n",
    "\n",
    "# Access the values using the section and key\n",
    "# Assuming the values you want are in the \"connections.dev\" section\n",
    "dict_creds = {}\n",
    "\n",
    "#Se comenta esta linea de codigo para usar el json con credenciales dentro del proyecto\n",
    "dict_creds['account'] = config['connections.dev']['accountname']\n",
    "dict_creds['user'] = config['connections.dev']['username']\n",
    "dict_creds['password'] = config['connections.dev']['password']\n",
    "dict_creds['role'] = config['connections.dev']['rolename']\n",
    "dict_creds['database'] = config['connections.dev']['dbname']\n",
    "dict_creds['warehouse'] = config['connections.dev']['warehousename']\n",
    "\n",
    "# dict_creds['account'] = config['connections.dev']['account']\n",
    "# dict_creds['user'] = config['connections.dev']['user']\n",
    "# dict_creds['password'] = config['connections.dev']['password']\n",
    "# dict_creds['role'] = config['connections.dev']['role']\n",
    "\n",
    "\n",
    "# Setting up Snowpark Connection\n",
    "session = Session.builder.configs(dict_creds).create()"
   ]
  },
  {
   "cell_type": "code",
   "execution_count": 7,
   "metadata": {},
   "outputs": [
    {
     "name": "stdout",
     "output_type": "stream",
     "text": [
      "El DataFrame está vacío.\n"
     ]
    }
   ],
   "source": [
    "from snowflake.ml.registry import Registry\n",
    "reg = Registry(session=session, database_name=\"BANANA_QUALITY\",  schema_name=\"DEV\")\n",
    "model_info = reg.show_models()\n",
    "if model_info.empty:\n",
    "    print(\"El DataFrame está vacío.\")\n",
    "else:\n",
    "    print(\"El DataFrame no está vacío.\")"
   ]
  },
  {
   "cell_type": "code",
   "execution_count": 6,
   "metadata": {},
   "outputs": [
    {
     "name": "stdout",
     "output_type": "stream",
     "text": [
      "Empty DataFrame\n",
      "Columns: []\n",
      "Index: []\n"
     ]
    }
   ],
   "source": [
    "print(model_info)"
   ]
  },
  {
   "cell_type": "code",
   "execution_count": 3,
   "metadata": {},
   "outputs": [
    {
     "ename": "KeyError",
     "evalue": "'snowflake_import_directory'",
     "output_type": "error",
     "traceback": [
      "\u001b[1;31m---------------------------------------------------------------------------\u001b[0m",
      "\u001b[1;31mKeyError\u001b[0m                                  Traceback (most recent call last)",
      "Cell \u001b[1;32mIn[3], line 2\u001b[0m\n\u001b[0;32m      1\u001b[0m IMPORT_DIRECTORY_NAME \u001b[38;5;241m=\u001b[39m \u001b[38;5;124m\"\u001b[39m\u001b[38;5;124msnowflake_import_directory\u001b[39m\u001b[38;5;124m\"\u001b[39m\n\u001b[1;32m----> 2\u001b[0m import_dir \u001b[38;5;241m=\u001b[39m \u001b[43msys\u001b[49m\u001b[38;5;241;43m.\u001b[39;49m\u001b[43m_xoptions\u001b[49m\u001b[43m[\u001b[49m\u001b[43mIMPORT_DIRECTORY_NAME\u001b[49m\u001b[43m]\u001b[49m\n\u001b[0;32m      3\u001b[0m model_name \u001b[38;5;241m=\u001b[39m \u001b[38;5;124m'\u001b[39m\u001b[38;5;124mmodel.joblib.gz\u001b[39m\u001b[38;5;124m'\u001b[39m\n",
      "\u001b[1;31mKeyError\u001b[0m: 'snowflake_import_directory'"
     ]
    }
   ],
   "source": [
    "IMPORT_DIRECTORY_NAME = \"snowflake_import_directory\"\n",
    "import_dir = sys._xoptions[IMPORT_DIRECTORY_NAME]\n",
    "model_name = 'model.joblib.gz'"
   ]
  },
  {
   "cell_type": "code",
   "execution_count": null,
   "metadata": {},
   "outputs": [],
   "source": [
    "\n",
    "session.file.get('@dev/model.joblib.gz', file:///tmp/model.joblib.gz)\n"
   ]
  },
  {
   "cell_type": "code",
   "execution_count": 9,
   "metadata": {},
   "outputs": [
    {
     "ename": "PermissionError",
     "evalue": "[Errno 13] Permission denied: 'model.joblib.gz'",
     "output_type": "error",
     "traceback": [
      "\u001b[1;31m---------------------------------------------------------------------------\u001b[0m",
      "\u001b[1;31mPermissionError\u001b[0m                           Traceback (most recent call last)",
      "Cell \u001b[1;32mIn[9], line 13\u001b[0m\n\u001b[0;32m     10\u001b[0m model_path \u001b[38;5;241m=\u001b[39m \u001b[38;5;124m\"\u001b[39m\u001b[38;5;124mmodel.joblib.gz\u001b[39m\u001b[38;5;124m\"\u001b[39m\n\u001b[0;32m     12\u001b[0m \u001b[38;5;66;03m# Cargar el modelo desde el archivo descargado\u001b[39;00m\n\u001b[1;32m---> 13\u001b[0m \u001b[38;5;28;01mwith\u001b[39;00m \u001b[38;5;28;43mopen\u001b[39;49m\u001b[43m(\u001b[49m\u001b[43mmodel_path\u001b[49m\u001b[43m,\u001b[49m\u001b[43m \u001b[49m\u001b[38;5;124;43m'\u001b[39;49m\u001b[38;5;124;43mrb\u001b[39;49m\u001b[38;5;124;43m'\u001b[39;49m\u001b[43m)\u001b[49m \u001b[38;5;28;01mas\u001b[39;00m f:\n\u001b[0;32m     14\u001b[0m     model \u001b[38;5;241m=\u001b[39m joblib\u001b[38;5;241m.\u001b[39mload(f)\n",
      "File \u001b[1;32mc:\\ambientes_conda\\pysnowpark_ml_ops\\lib\\site-packages\\IPython\\core\\interactiveshell.py:310\u001b[0m, in \u001b[0;36m_modified_open\u001b[1;34m(file, *args, **kwargs)\u001b[0m\n\u001b[0;32m    303\u001b[0m \u001b[38;5;28;01mif\u001b[39;00m file \u001b[38;5;129;01min\u001b[39;00m {\u001b[38;5;241m0\u001b[39m, \u001b[38;5;241m1\u001b[39m, \u001b[38;5;241m2\u001b[39m}:\n\u001b[0;32m    304\u001b[0m     \u001b[38;5;28;01mraise\u001b[39;00m \u001b[38;5;167;01mValueError\u001b[39;00m(\n\u001b[0;32m    305\u001b[0m         \u001b[38;5;124mf\u001b[39m\u001b[38;5;124m\"\u001b[39m\u001b[38;5;124mIPython won\u001b[39m\u001b[38;5;124m'\u001b[39m\u001b[38;5;124mt let you open fd=\u001b[39m\u001b[38;5;132;01m{\u001b[39;00mfile\u001b[38;5;132;01m}\u001b[39;00m\u001b[38;5;124m by default \u001b[39m\u001b[38;5;124m\"\u001b[39m\n\u001b[0;32m    306\u001b[0m         \u001b[38;5;124m\"\u001b[39m\u001b[38;5;124mas it is likely to crash IPython. If you know what you are doing, \u001b[39m\u001b[38;5;124m\"\u001b[39m\n\u001b[0;32m    307\u001b[0m         \u001b[38;5;124m\"\u001b[39m\u001b[38;5;124myou can use builtins\u001b[39m\u001b[38;5;124m'\u001b[39m\u001b[38;5;124m open.\u001b[39m\u001b[38;5;124m\"\u001b[39m\n\u001b[0;32m    308\u001b[0m     )\n\u001b[1;32m--> 310\u001b[0m \u001b[38;5;28;01mreturn\u001b[39;00m io_open(file, \u001b[38;5;241m*\u001b[39margs, \u001b[38;5;241m*\u001b[39m\u001b[38;5;241m*\u001b[39mkwargs)\n",
      "\u001b[1;31mPermissionError\u001b[0m: [Errno 13] Permission denied: 'model.joblib.gz'"
     ]
    }
   ],
   "source": [
    "import joblib\n",
    "from tempfile import NamedTemporaryFile\n",
    "\n",
    "#session.use_schema(\"DEV\")\n",
    "\n",
    "\n",
    "#with NamedTemporaryFile(delete=False, suffix='.joblib.gz') as tmp_file:\n",
    "    # Descargar el archivo desde el stage al archivo temporal\n",
    "session.file.get('@ML_MODELS/model.joblib.gz', \"model.joblib.gz\")\n",
    "model_path = \"model.joblib.gz\"\n",
    "\n",
    "# Cargar el modelo desde el archivo descargado\n",
    "with open(model_path, 'rb') as f:\n",
    "    model = joblib.load(f)"
   ]
  },
  {
   "cell_type": "code",
   "execution_count": 15,
   "metadata": {},
   "outputs": [],
   "source": [
    "# Función para cargar el modelo desde un internal stage\n",
    "def load_model_from_stage(session: Session):\n",
    "    # Crear un archivo temporal\n",
    "    with NamedTemporaryFile(suffix='.joblib.gz') as tmp_file:\n",
    "        # Descargar el archivo desde el stage al archivo temporal\n",
    "        session.file.get('@ML_MODELS/model.joblib.gz', tmp_file.name)\n",
    "        model_path = tmp_file.name\n",
    "\n",
    "    # Cargar el modelo desde el archivo descargado\n",
    "    with open(model_path, 'rb') as f:\n",
    "        model = joblib.load(f)\n",
    "\n",
    "    # Eliminar el archivo temporal\n",
    "    os.remove(model_path)\n",
    "    \n",
    "    return model"
   ]
  },
  {
   "cell_type": "code",
   "execution_count": 16,
   "metadata": {},
   "outputs": [
    {
     "ename": "FileExistsError",
     "evalue": "[WinError 183] Cannot create a file when that file already exists: 'C:\\\\Users\\\\ERICKA~1.PER\\\\AppData\\\\Local\\\\Temp\\\\tmpcrisstpy.joblib.gz'",
     "output_type": "error",
     "traceback": [
      "\u001b[1;31m---------------------------------------------------------------------------\u001b[0m",
      "\u001b[1;31mFileExistsError\u001b[0m                           Traceback (most recent call last)",
      "Cell \u001b[1;32mIn[16], line 1\u001b[0m\n\u001b[1;32m----> 1\u001b[0m model \u001b[38;5;241m=\u001b[39m \u001b[43mload_model_from_stage\u001b[49m\u001b[43m(\u001b[49m\u001b[43msession\u001b[49m\u001b[43m)\u001b[49m\n",
      "Cell \u001b[1;32mIn[15], line 6\u001b[0m, in \u001b[0;36mload_model_from_stage\u001b[1;34m(session)\u001b[0m\n\u001b[0;32m      2\u001b[0m \u001b[38;5;28;01mdef\u001b[39;00m \u001b[38;5;21mload_model_from_stage\u001b[39m(session: Session):\n\u001b[0;32m      3\u001b[0m     \u001b[38;5;66;03m# Crear un archivo temporal\u001b[39;00m\n\u001b[0;32m      4\u001b[0m     \u001b[38;5;28;01mwith\u001b[39;00m NamedTemporaryFile(suffix\u001b[38;5;241m=\u001b[39m\u001b[38;5;124m'\u001b[39m\u001b[38;5;124m.joblib.gz\u001b[39m\u001b[38;5;124m'\u001b[39m) \u001b[38;5;28;01mas\u001b[39;00m tmp_file:\n\u001b[0;32m      5\u001b[0m         \u001b[38;5;66;03m# Descargar el archivo desde el stage al archivo temporal\u001b[39;00m\n\u001b[1;32m----> 6\u001b[0m         \u001b[43msession\u001b[49m\u001b[38;5;241;43m.\u001b[39;49m\u001b[43mfile\u001b[49m\u001b[38;5;241;43m.\u001b[39;49m\u001b[43mget\u001b[49m\u001b[43m(\u001b[49m\u001b[38;5;124;43m'\u001b[39;49m\u001b[38;5;124;43m@ML_MODELS/model.joblib.gz\u001b[39;49m\u001b[38;5;124;43m'\u001b[39;49m\u001b[43m,\u001b[49m\u001b[43m \u001b[49m\u001b[43mtmp_file\u001b[49m\u001b[38;5;241;43m.\u001b[39;49m\u001b[43mname\u001b[49m\u001b[43m)\u001b[49m\n\u001b[0;32m      7\u001b[0m         model_path \u001b[38;5;241m=\u001b[39m tmp_file\u001b[38;5;241m.\u001b[39mname\n\u001b[0;32m      9\u001b[0m     \u001b[38;5;66;03m# Cargar el modelo desde el archivo descargado\u001b[39;00m\n",
      "File \u001b[1;32mc:\\ambientes_conda\\pysnowpark_ml_ops\\lib\\site-packages\\snowflake\\snowpark\\file_operation.py:218\u001b[0m, in \u001b[0;36mFileOperation.get\u001b[1;34m(self, stage_location, target_directory, parallel, pattern, statement_params)\u001b[0m\n\u001b[0;32m    210\u001b[0m     plan \u001b[38;5;241m=\u001b[39m \u001b[38;5;28mself\u001b[39m\u001b[38;5;241m.\u001b[39m_session\u001b[38;5;241m.\u001b[39m_plan_builder\u001b[38;5;241m.\u001b[39mfile_operation_plan(\n\u001b[0;32m    211\u001b[0m         \u001b[38;5;124m\"\u001b[39m\u001b[38;5;124mget\u001b[39m\u001b[38;5;124m\"\u001b[39m,\n\u001b[0;32m    212\u001b[0m         normalize_local_file(target_directory),\n\u001b[0;32m    213\u001b[0m         normalize_remote_file_or_dir(stage_location),\n\u001b[0;32m    214\u001b[0m         options,\n\u001b[0;32m    215\u001b[0m     )\n\u001b[0;32m    216\u001b[0m     \u001b[38;5;66;03m# This is not needed for stored proc because sp connector already fixed it\u001b[39;00m\n\u001b[0;32m    217\u001b[0m     \u001b[38;5;66;03m# JDBC auto-creates directory but python-connector doesn't. So create the folder here.\u001b[39;00m\n\u001b[1;32m--> 218\u001b[0m     \u001b[43mos\u001b[49m\u001b[38;5;241;43m.\u001b[39;49m\u001b[43mmakedirs\u001b[49m\u001b[43m(\u001b[49m\u001b[43mget_local_file_path\u001b[49m\u001b[43m(\u001b[49m\u001b[43mtarget_directory\u001b[49m\u001b[43m)\u001b[49m\u001b[43m,\u001b[49m\u001b[43m \u001b[49m\u001b[43mexist_ok\u001b[49m\u001b[38;5;241;43m=\u001b[39;49m\u001b[38;5;28;43;01mTrue\u001b[39;49;00m\u001b[43m)\u001b[49m\n\u001b[0;32m    219\u001b[0m     get_result \u001b[38;5;241m=\u001b[39m snowflake\u001b[38;5;241m.\u001b[39msnowpark\u001b[38;5;241m.\u001b[39mdataframe\u001b[38;5;241m.\u001b[39mDataFrame(\n\u001b[0;32m    220\u001b[0m         \u001b[38;5;28mself\u001b[39m\u001b[38;5;241m.\u001b[39m_session, plan\n\u001b[0;32m    221\u001b[0m     )\u001b[38;5;241m.\u001b[39m_internal_collect_with_tag(statement_params\u001b[38;5;241m=\u001b[39mstatement_params)\n\u001b[0;32m    222\u001b[0m \u001b[38;5;28;01mreturn\u001b[39;00m [GetResult(\u001b[38;5;241m*\u001b[39m\u001b[38;5;241m*\u001b[39mfile_result\u001b[38;5;241m.\u001b[39masDict()) \u001b[38;5;28;01mfor\u001b[39;00m file_result \u001b[38;5;129;01min\u001b[39;00m get_result]\n",
      "File \u001b[1;32mc:\\ambientes_conda\\pysnowpark_ml_ops\\lib\\os.py:225\u001b[0m, in \u001b[0;36mmakedirs\u001b[1;34m(name, mode, exist_ok)\u001b[0m\n\u001b[0;32m    223\u001b[0m         \u001b[38;5;28;01mreturn\u001b[39;00m\n\u001b[0;32m    224\u001b[0m \u001b[38;5;28;01mtry\u001b[39;00m:\n\u001b[1;32m--> 225\u001b[0m     \u001b[43mmkdir\u001b[49m\u001b[43m(\u001b[49m\u001b[43mname\u001b[49m\u001b[43m,\u001b[49m\u001b[43m \u001b[49m\u001b[43mmode\u001b[49m\u001b[43m)\u001b[49m\n\u001b[0;32m    226\u001b[0m \u001b[38;5;28;01mexcept\u001b[39;00m \u001b[38;5;167;01mOSError\u001b[39;00m:\n\u001b[0;32m    227\u001b[0m     \u001b[38;5;66;03m# Cannot rely on checking for EEXIST, since the operating system\u001b[39;00m\n\u001b[0;32m    228\u001b[0m     \u001b[38;5;66;03m# could give priority to other errors like EACCES or EROFS\u001b[39;00m\n\u001b[0;32m    229\u001b[0m     \u001b[38;5;28;01mif\u001b[39;00m \u001b[38;5;129;01mnot\u001b[39;00m exist_ok \u001b[38;5;129;01mor\u001b[39;00m \u001b[38;5;129;01mnot\u001b[39;00m path\u001b[38;5;241m.\u001b[39misdir(name):\n",
      "\u001b[1;31mFileExistsError\u001b[0m: [WinError 183] Cannot create a file when that file already exists: 'C:\\\\Users\\\\ERICKA~1.PER\\\\AppData\\\\Local\\\\Temp\\\\tmpcrisstpy.joblib.gz'"
     ]
    }
   ],
   "source": [
    "model = load_model_from_stage(session)"
   ]
  },
  {
   "cell_type": "code",
   "execution_count": 12,
   "metadata": {},
   "outputs": [],
   "source": [
    "session.use_schema(\"DEV\")\n",
    "model = session.file.get('@ML_MODELS/model.joblib.gz', '/tmp')"
   ]
  },
  {
   "cell_type": "code",
   "execution_count": 15,
   "metadata": {},
   "outputs": [
    {
     "name": "stderr",
     "output_type": "stream",
     "text": [
      "UsageError: Cell magic `%%!sudo` not found.\n"
     ]
    }
   ],
   "source": [
    "%%!sudo chmod a+w /tmp"
   ]
  },
  {
   "cell_type": "code",
   "execution_count": 13,
   "metadata": {},
   "outputs": [
    {
     "ename": "PermissionError",
     "evalue": "[Errno 13] Permission denied: '/tmp/model.joblib.gz'",
     "output_type": "error",
     "traceback": [
      "\u001b[1;31m---------------------------------------------------------------------------\u001b[0m",
      "\u001b[1;31mPermissionError\u001b[0m                           Traceback (most recent call last)",
      "Cell \u001b[1;32mIn[13], line 2\u001b[0m\n\u001b[0;32m      1\u001b[0m model_path \u001b[38;5;241m=\u001b[39m \u001b[38;5;124m'\u001b[39m\u001b[38;5;124m/tmp/model.joblib.gz\u001b[39m\u001b[38;5;124m'\u001b[39m\n\u001b[1;32m----> 2\u001b[0m \u001b[38;5;28;01mwith\u001b[39;00m \u001b[38;5;28;43mopen\u001b[39;49m\u001b[43m(\u001b[49m\u001b[43mmodel_path\u001b[49m\u001b[43m,\u001b[49m\u001b[43m \u001b[49m\u001b[38;5;124;43m'\u001b[39;49m\u001b[38;5;124;43mrb\u001b[39;49m\u001b[38;5;124;43m'\u001b[39;49m\u001b[43m)\u001b[49m \u001b[38;5;28;01mas\u001b[39;00m f:\n\u001b[0;32m      3\u001b[0m     model \u001b[38;5;241m=\u001b[39m joblib\u001b[38;5;241m.\u001b[39mload(f)\n",
      "File \u001b[1;32mc:\\ambientes_conda\\pysnowpark_ml_ops\\lib\\site-packages\\IPython\\core\\interactiveshell.py:310\u001b[0m, in \u001b[0;36m_modified_open\u001b[1;34m(file, *args, **kwargs)\u001b[0m\n\u001b[0;32m    303\u001b[0m \u001b[38;5;28;01mif\u001b[39;00m file \u001b[38;5;129;01min\u001b[39;00m {\u001b[38;5;241m0\u001b[39m, \u001b[38;5;241m1\u001b[39m, \u001b[38;5;241m2\u001b[39m}:\n\u001b[0;32m    304\u001b[0m     \u001b[38;5;28;01mraise\u001b[39;00m \u001b[38;5;167;01mValueError\u001b[39;00m(\n\u001b[0;32m    305\u001b[0m         \u001b[38;5;124mf\u001b[39m\u001b[38;5;124m\"\u001b[39m\u001b[38;5;124mIPython won\u001b[39m\u001b[38;5;124m'\u001b[39m\u001b[38;5;124mt let you open fd=\u001b[39m\u001b[38;5;132;01m{\u001b[39;00mfile\u001b[38;5;132;01m}\u001b[39;00m\u001b[38;5;124m by default \u001b[39m\u001b[38;5;124m\"\u001b[39m\n\u001b[0;32m    306\u001b[0m         \u001b[38;5;124m\"\u001b[39m\u001b[38;5;124mas it is likely to crash IPython. If you know what you are doing, \u001b[39m\u001b[38;5;124m\"\u001b[39m\n\u001b[0;32m    307\u001b[0m         \u001b[38;5;124m\"\u001b[39m\u001b[38;5;124myou can use builtins\u001b[39m\u001b[38;5;124m'\u001b[39m\u001b[38;5;124m open.\u001b[39m\u001b[38;5;124m\"\u001b[39m\n\u001b[0;32m    308\u001b[0m     )\n\u001b[1;32m--> 310\u001b[0m \u001b[38;5;28;01mreturn\u001b[39;00m io_open(file, \u001b[38;5;241m*\u001b[39margs, \u001b[38;5;241m*\u001b[39m\u001b[38;5;241m*\u001b[39mkwargs)\n",
      "\u001b[1;31mPermissionError\u001b[0m: [Errno 13] Permission denied: '/tmp/model.joblib.gz'"
     ]
    }
   ],
   "source": [
    "model_path = '/tmp/model.joblib.gz'\n",
    "with open(model_path, 'rb') as f:\n",
    "    model = joblib.load(f)"
   ]
  }
 ],
 "metadata": {
  "kernelspec": {
   "display_name": "Python 3",
   "language": "python",
   "name": "python3"
  },
  "language_info": {
   "codemirror_mode": {
    "name": "ipython",
    "version": 3
   },
   "file_extension": ".py",
   "mimetype": "text/x-python",
   "name": "python",
   "nbconvert_exporter": "python",
   "pygments_lexer": "ipython3",
   "version": "3.9.18"
  }
 },
 "nbformat": 4,
 "nbformat_minor": 2
}
